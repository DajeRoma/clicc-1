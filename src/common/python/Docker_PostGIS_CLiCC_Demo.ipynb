{
 "cells": [
  {
   "cell_type": "code",
   "execution_count": null,
   "metadata": {
    "collapsed": false
   },
   "outputs": [],
   "source": [
    "###########################################################################\n",
    "# Package Imports and Database Connection Settings\n",
    "###########################################################################\n",
    "\n",
    "# Package imports\n",
    "import psycopg2\n",
    "import pandas.io.sql as pdsql\n",
    "\n",
    "# Set database connection parameters\n",
    "params = {\n",
    "  'dbname': 'clicc',\n",
    "  'user': 'clicc',\n",
    "  'password': 'clicc',\n",
    "  'host': '192.168.99.100',\n",
    "  'port': 5432\n",
    "}\n",
    "\n",
    "# Attempt to connect to a PostGIS database running in docker container\n",
    "try: \n",
    "    conn = psycopg2.connect(**params)\n",
    "    print('Connected to PostGIS Database')\n",
    "except: \n",
    "    print('Failed to Connect to PostGIS Database')"
   ]
  },
  {
   "cell_type": "code",
   "execution_count": null,
   "metadata": {
    "collapsed": true
   },
   "outputs": [],
   "source": [
    "###########################################################################\n",
    "# Task #1\n",
    "###########################################################################\n",
    "\n",
    "# Build custom SQL query to compute landuse fractions\n",
    "queryLF = \"\"\"\n",
    "    SELECT huc, (ST_ValueCount(ST_Union(ST_Clip(rast,geom)))).*\n",
    "       INTO counts \n",
    "       FROM landuse, catchments \n",
    "       GROUP BY huc; \n",
    "    SELECT huc, value, count, \n",
    "    (SUM(count) OVER (PARTITION BY huc)) AS sum \n",
    "        INTO counts_sum \n",
    "        FROM counts;\n",
    "    SELECT huc, value, count, \n",
    "    (@ST_ScaleX(rast) * @ST_ScaleY(rast) * (CAST(count AS float))) AS area, \n",
    "    (CAST(count AS float) / CAST(sum AS float)) AS fraction\n",
    "        FROM landuse, counts_sum;\n",
    "\"\"\"\n",
    "\n",
    "# Execute query and write to pandas data frame\n",
    "LF = pdsql.read_sql(queryLF, conn)\n",
    "\n",
    "# Print data frame contents\n",
    "print(LF)"
   ]
  },
  {
   "cell_type": "code",
   "execution_count": null,
   "metadata": {
    "collapsed": true
   },
   "outputs": [],
   "source": [
    "###########################################################################\n",
    "# Task #2\n",
    "###########################################################################\n",
    "\n",
    "# Build custom SQL query to compute mean reach depth\n",
    "queryRD = \"\"\"\n",
    "    SELECT huc, AVG(pdepth) AS mean_depth \n",
    "    FROM reaches\n",
    "    GROUP BY huc;\n",
    "\"\"\"\n",
    "\n",
    "# Execute query and write to pandas data frame\n",
    "RD = pdsql.read_sql(queryRD, conn)\n",
    "\n",
    "# Print data frame contents\n",
    "print(RD)"
   ]
  },
  {
   "cell_type": "code",
   "execution_count": null,
   "metadata": {
    "collapsed": false
   },
   "outputs": [],
   "source": [
    "###########################################################################\n",
    "# Task #3\n",
    "###########################################################################\n",
    "\n",
    "# Build custom SQL query to compute the distribution of landuses per\n",
    "# soil classification zone\n",
    "querySG = \"\"\"\n",
    "    SELECT huc, muid, ST_Union(catchment.geom,soils.geom) AS union_geom\n",
    "        INTO soilsunion\n",
    "        FROM catchment, soils;\n",
    "    SELECT huc, muid, (ST_ValueCount(ST_Union(ST_Clip(rast,union_geom)))).* AS counts \n",
    "        FROM landuse, soilsunion\n",
    "        GROUP BY huc, muid; \n",
    "\"\"\"\n",
    "\n",
    "# Execute query and write to pandas data frame\n",
    "SG = pdsql.read_sql(querySG, conn)\n",
    "\n",
    "# Print data frame contents\n",
    "print(SG)"
   ]
  },
  {
   "cell_type": "code",
   "execution_count": null,
   "metadata": {
    "collapsed": true
   },
   "outputs": [],
   "source": []
  }
 ],
 "metadata": {
  "kernelspec": {
   "display_name": "Python 2",
   "language": "python",
   "name": "python2"
  },
  "language_info": {
   "codemirror_mode": {
    "name": "ipython",
    "version": 2
   },
   "file_extension": ".py",
   "mimetype": "text/x-python",
   "name": "python",
   "nbconvert_exporter": "python",
   "pygments_lexer": "ipython2",
   "version": "2.7.6"
  }
 },
 "nbformat": 4,
 "nbformat_minor": 0
}
